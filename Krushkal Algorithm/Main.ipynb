{
 "cells": [
  {
   "cell_type": "code",
   "execution_count": 7,
   "metadata": {},
   "outputs": [
    {
     "name": "stdout",
     "output_type": "stream",
     "text": [
      "\n",
      "Source vertex: A\n",
      "\n",
      "Nodes: 7\n",
      "\n",
      "Edges: 13\n",
      "\n",
      "Undirected graph\n",
      "\n",
      "Path cost from A To B : 1\n",
      "Path cost from B To C : 1\n",
      "Path cost from B To G : 2\n",
      "Path cost from G To D : 12\n",
      "Path cost from D To F : 1\n",
      "Path cost from D To E : 2\n",
      "Total cost:  19\n",
      "Edges of the tree for a Minimum Spanning Tree: \n",
      "A -> {'B'}\n",
      "B -> {'G', 'C'}\n",
      "G -> {'D'}\n",
      "D -> {'F', 'E'}\n",
      "Runtime is 0.003157377243041992 sec\n"
     ]
    }
   ],
   "source": [
    "import heapq\n",
    "from collections import defaultdict\n",
    "import time\n",
    "from Minimum_Spanning import minimum_spanning\n",
    "\n",
    "def main():\n",
    "    file = open(\"C:/Users/jeetj/3D Objects/Project_2/Question_2/Undirected_Input/Input4.txt\", \"r\")\n",
    "    lines = file.readlines()\n",
    "    edges = []\n",
    "    \n",
    "    for line in lines:\n",
    "        edges.append(line.split())\n",
    "        \n",
    "    last = list(edges)[-1]\n",
    "    first = list(edges)[0]\n",
    "    vertices = first[0]\n",
    "    noofedges = first[1]\n",
    "    g = first[2]\n",
    "    \n",
    "    edges.pop(0)\n",
    "    \n",
    "    if(len(last)==1):\n",
    "        edges.pop()\n",
    "    di = {}\n",
    "    for li in edges:\n",
    "        di.setdefault(li[0],{})[li[1]]=li[2]\n",
    "        \n",
    "    firstnode = list(di)[0]\n",
    "    startnode = firstnode[0]\n",
    "    print('\\nSource vertex: '+str(startnode)+'\\n')\n",
    "    print('Nodes: '+str(vertices)+'\\n')\n",
    "    print('Edges: '+str(noofedges)+'\\n')\n",
    "    \n",
    "    if g == 'D':\n",
    "        print('Directed Graph\\n')\n",
    "    else:\n",
    "        print('Undirected graph\\n')\n",
    "        \n",
    "    result = dict(minimum_spanning(di, startnode))\n",
    "\n",
    "    print('Edges of the tree for a Minimum Spanning Tree: ')\n",
    "    for key in result:\n",
    "        print(''+str(key)+' -> '+str(result[key]))\n",
    "    \n",
    "\n",
    "if __name__ == \"__main__\":\n",
    "    start_time = time.time()\n",
    "    main()\n",
    "    print(\"Runtime is %s sec\" % (time.time() - start_time))"
   ]
  },
  {
   "cell_type": "code",
   "execution_count": null,
   "metadata": {},
   "outputs": [],
   "source": []
  }
 ],
 "metadata": {
  "kernelspec": {
   "display_name": "Python 3",
   "language": "python",
   "name": "python3"
  },
  "language_info": {
   "codemirror_mode": {
    "name": "ipython",
    "version": 3
   },
   "file_extension": ".py",
   "mimetype": "text/x-python",
   "name": "python",
   "nbconvert_exporter": "python",
   "pygments_lexer": "ipython3",
   "version": "3.6.9"
  }
 },
 "nbformat": 4,
 "nbformat_minor": 2
}
